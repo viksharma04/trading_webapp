{
 "cells": [
  {
   "cell_type": "code",
   "execution_count": 1,
   "metadata": {},
   "outputs": [],
   "source": [
    "import yfinance as yf\n",
    "import pandas as pd\n",
    "import matplotlib.pyplot as plt"
   ]
  },
  {
   "cell_type": "code",
   "execution_count": 2,
   "metadata": {},
   "outputs": [],
   "source": [
    "tickers = ['DIA', 'IWM', 'QQQ', 'SPY', 'VTI']"
   ]
  },
  {
   "cell_type": "code",
   "execution_count": 3,
   "metadata": {},
   "outputs": [
    {
     "name": "stdout",
     "output_type": "stream",
     "text": [
      "[*********************100%***********************]  5 of 5 completed\n"
     ]
    }
   ],
   "source": [
    "data = yf.download(tickers, period='1y')['Adj Close']"
   ]
  },
  {
   "cell_type": "code",
   "execution_count": 4,
   "metadata": {},
   "outputs": [],
   "source": [
    "periods = {'1 week':5, '1 Month':30, '3 Months':90, '6 Months':180, '1 Year':250}\n",
    "# create a data frame with tickers as the index and periods.keys() as the columns\n",
    "returns_df = pd.DataFrame(index=tickers, columns=periods.keys())\n",
    "\n",
    "for period, days in periods.items():\n",
    "    returns = ((data.iloc[-1] - data.iloc[-days]) / data.iloc[-days]) * 100\n",
    "    returns_df[period] = returns"
   ]
  },
  {
   "cell_type": "code",
   "execution_count": 64,
   "metadata": {},
   "outputs": [],
   "source": [
    "for period in periods.keys():\n",
    "\n",
    "    table = returns_df.round(2).sort_values(by=f'{period}', ascending=False)\n",
    "    \n",
    "    fig, ax = plt.subplots(figsize=(10, 6))\n",
    "    bar_container = ax.barh(table.index, table[period].astype(float), color='#f5deb3')\n",
    "    ax.set(ylabel='percent return', title=f'Stock Market Returns - {period}', xlim=(table[period].min()-1, table[period].max() + 1))\n",
    "    ax.bar_label(\n",
    "        bar_container, fmt='%.2f', label_type='edge', color='#f5deb3'\n",
    "    )\n",
    "    ax.set_facecolor('black')\n",
    "    fig.set_facecolor('black')\n",
    "    # Make axis and data labels white\n",
    "    ax.tick_params(axis='x', colors='#f5deb3')\n",
    "    ax.tick_params(axis='y', colors='#f5deb3')\n",
    "    ax.title.set_color('#f5deb3')\n",
    "    ax.yaxis.label.set_color('#f5deb3')\n",
    "\n",
    "    plt.savefig(f'performance_table_{period}.png', facecolor=fig.get_facecolor())\n",
    "    plt.close()"
   ]
  },
  {
   "cell_type": "code",
   "execution_count": 7,
   "metadata": {},
   "outputs": [
    {
     "data": {
      "text/html": [
       "<div>\n",
       "<style scoped>\n",
       "    .dataframe tbody tr th:only-of-type {\n",
       "        vertical-align: middle;\n",
       "    }\n",
       "\n",
       "    .dataframe tbody tr th {\n",
       "        vertical-align: top;\n",
       "    }\n",
       "\n",
       "    .dataframe thead th {\n",
       "        text-align: right;\n",
       "    }\n",
       "</style>\n",
       "<table border=\"1\" class=\"dataframe\">\n",
       "  <thead>\n",
       "    <tr style=\"text-align: right;\">\n",
       "      <th></th>\n",
       "      <th>1 week</th>\n",
       "      <th>1 Month</th>\n",
       "      <th>3 Months</th>\n",
       "      <th>6 Months</th>\n",
       "      <th>1 Year</th>\n",
       "    </tr>\n",
       "  </thead>\n",
       "  <tbody>\n",
       "    <tr>\n",
       "      <th>QQQ</th>\n",
       "      <td>2.97%</td>\n",
       "      <td>5.86%</td>\n",
       "      <td>21.43%</td>\n",
       "      <td>13.04%</td>\n",
       "      <td>15.54%</td>\n",
       "    </tr>\n",
       "    <tr>\n",
       "      <th>SPY</th>\n",
       "      <td>1.36%</td>\n",
       "      <td>2.2%</td>\n",
       "      <td>6.24%</td>\n",
       "      <td>6.93%</td>\n",
       "      <td>7.25%</td>\n",
       "    </tr>\n",
       "    <tr>\n",
       "      <th>VTI</th>\n",
       "      <td>1.27%</td>\n",
       "      <td>1.98%</td>\n",
       "      <td>5.19%</td>\n",
       "      <td>5.91%</td>\n",
       "      <td>6.34%</td>\n",
       "    </tr>\n",
       "    <tr>\n",
       "      <th>IWM</th>\n",
       "      <td>0.73%</td>\n",
       "      <td>0.2%</td>\n",
       "      <td>-3.28%</td>\n",
       "      <td>-1.66%</td>\n",
       "      <td>0.42%</td>\n",
       "    </tr>\n",
       "    <tr>\n",
       "      <th>DIA</th>\n",
       "      <td>0.34%</td>\n",
       "      <td>-0.26%</td>\n",
       "      <td>-0.86%</td>\n",
       "      <td>7.04%</td>\n",
       "      <td>6.94%</td>\n",
       "    </tr>\n",
       "  </tbody>\n",
       "</table>\n",
       "</div>"
      ],
      "text/plain": [
       "    1 week 1 Month 3 Months 6 Months  1 Year\n",
       "QQQ  2.97%   5.86%   21.43%   13.04%  15.54%\n",
       "SPY  1.36%    2.2%    6.24%    6.93%   7.25%\n",
       "VTI  1.27%   1.98%    5.19%    5.91%   6.34%\n",
       "IWM  0.73%    0.2%   -3.28%   -1.66%   0.42%\n",
       "DIA  0.34%  -0.26%   -0.86%    7.04%   6.94%"
      ]
     },
     "execution_count": 7,
     "metadata": {},
     "output_type": "execute_result"
    }
   ],
   "source": [
    "table"
   ]
  },
  {
   "cell_type": "code",
   "execution_count": 5,
   "metadata": {},
   "outputs": [
    {
     "ename": "AttributeError",
     "evalue": "'BarContainer' object has no attribute 'set_facecolor'",
     "output_type": "error",
     "traceback": [
      "\u001b[1;31m---------------------------------------------------------------------------\u001b[0m",
      "\u001b[1;31mAttributeError\u001b[0m                            Traceback (most recent call last)",
      "\u001b[1;32m~\\AppData\\Local\\Temp/ipykernel_27968/4142694345.py\u001b[0m in \u001b[0;36m<module>\u001b[1;34m\u001b[0m\n\u001b[0;32m     13\u001b[0m \u001b[0mplt\u001b[0m\u001b[1;33m.\u001b[0m\u001b[0mlegend\u001b[0m\u001b[1;33m(\u001b[0m\u001b[0mloc\u001b[0m\u001b[1;33m=\u001b[0m\u001b[1;34m'upper right'\u001b[0m\u001b[1;33m)\u001b[0m\u001b[1;33m\u001b[0m\u001b[1;33m\u001b[0m\u001b[0m\n\u001b[0;32m     14\u001b[0m \u001b[1;31m# Set the background color to black\u001b[0m\u001b[1;33m\u001b[0m\u001b[1;33m\u001b[0m\u001b[1;33m\u001b[0m\u001b[0m\n\u001b[1;32m---> 15\u001b[1;33m \u001b[0max\u001b[0m\u001b[1;33m.\u001b[0m\u001b[0mset_facecolor\u001b[0m\u001b[1;33m(\u001b[0m\u001b[1;34m'black'\u001b[0m\u001b[1;33m)\u001b[0m\u001b[1;33m\u001b[0m\u001b[1;33m\u001b[0m\u001b[0m\n\u001b[0m\u001b[0;32m     16\u001b[0m \u001b[1;33m\u001b[0m\u001b[0m\n\u001b[0;32m     17\u001b[0m \u001b[1;31m# Set the color of the tick labels and axes\u001b[0m\u001b[1;33m\u001b[0m\u001b[1;33m\u001b[0m\u001b[1;33m\u001b[0m\u001b[0m\n",
      "\u001b[1;31mAttributeError\u001b[0m: 'BarContainer' object has no attribute 'set_facecolor'"
     ]
    },
    {
     "data": {
      "image/png": "[encoded data removed]",
      "text/plain": [
       "<Figure size 576x432 with 1 Axes>"
      ]
     },
     "metadata": {
      "needs_background": "light"
     },
     "output_type": "display_data"
    }
   ],
   "source": [
    "table = returns_df.round(2).sort_values(by='1 week', ascending=False)\n",
    "\n",
    "# Create the area plot\n",
    "plt.figure(figsize=(8, 6))\n",
    "ax = plt.barh(table.index, table['1 week'], color='green', label='1 Week')\n",
    "\n",
    "# Customize the plot\n",
    "plt.title('Returns of Asset Classes')\n",
    "plt.xlabel('Returns')\n",
    "plt.ylabel('Time Periods')\n",
    "\n",
    "# Create custom legend with colors\n",
    "plt.legend(loc='upper right')\n",
    "# Set the background color to black\n",
    "ax.set_facecolor('black')\n",
    "\n",
    "# Set the color of the tick labels and axes\n",
    "ax.tick_params(colors='white')\n",
    "plt.gca().spines['bottom'].set_color('white')\n",
    "plt.gca().spines['left'].set_color('white')\n",
    "\n",
    "# Save the plot as a PNG image\n",
    "plt.savefig('barplot.jpg', bbox_inches='tight', facecolor='black')\n",
    "plt.close()\n",
    "\n",
    "# Save the table as an image\n",
    "plt.figure(figsize=(8, 6))\n",
    "plt.axis('off')\n",
    "plt.table(cellText=table.values,\n",
    "          colLabels=table.columns,\n",
    "          rowLabels=table.index,\n",
    "          loc='center',\n",
    "          cellLoc='center',\n",
    "          colWidths=[0.2]*len(table.columns),\n",
    "          bbox=[0, 0, 1, 1])\n",
    "plt.savefig('stock_performance.png', bbox_inches='tight')\n",
    "plt.close()"
   ]
  },
  {
   "cell_type": "code",
   "execution_count": 94,
   "metadata": {},
   "outputs": [
    {
     "data": {
      "image/png": "[encoded data removed]",
      "text/plain": [
       "<Figure size 720x432 with 1 Axes>"
      ]
     },
     "metadata": {
      "needs_background": "dark"
     },
     "output_type": "display_data"
    }
   ],
   "source": [
    "import pandas as pd\n",
    "import matplotlib.pyplot as plt\n",
    "\n",
    "# Assuming you have a DataFrame called 'df' with returns for 5 asset classes as columns\n",
    "df=table\n",
    "# Create a horizontal bar chart\n",
    "ax = df.plot(kind='barh', figsize=(10, 6))\n",
    "\n",
    "# Customize the plot\n",
    "plt.title('Returns of Asset Classes')\n",
    "plt.xlabel('Returns')\n",
    "plt.ylabel('Time Periods')\n",
    "\n",
    "# Set the background color to black\n",
    "ax.set_facecolor('black')\n",
    "\n",
    "# Set the color of the tick labels and axes\n",
    "ax.tick_params(colors='white')\n",
    "plt.gca().spines['bottom'].set_color('white')\n",
    "plt.gca().spines['left'].set_color('white')\n",
    "\n",
    "# Save the plot as a PNG image\n",
    "plt.savefig('../images/barplot.jpg', bbox_inches='tight', facecolor='black')\n",
    "\n",
    "# Show the plot\n",
    "plt.show()\n"
   ]
  }
 ],
 "metadata": {
  "kernelspec": {
   "display_name": "Python 3",
   "language": "python",
   "name": "python3"
  },
  "language_info": {
   "codemirror_mode": {
    "name": "ipython",
    "version": 3
   },
   "file_extension": ".py",
   "mimetype": "text/x-python",
   "name": "python",
   "nbconvert_exporter": "python",
   "pygments_lexer": "ipython3",
   "version": "3.9.5"
  },
  "orig_nbformat": 4
 },
 "nbformat": 4,
 "nbformat_minor": 2
}
