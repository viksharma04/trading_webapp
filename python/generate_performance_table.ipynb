{
 "cells": [
  {
   "cell_type": "code",
   "execution_count": 17,
   "metadata": {},
   "outputs": [],
   "source": [
    "import yfinance as yf\n",
    "import pandas as pd\n",
    "import matplotlib.pyplot as plt"
   ]
  },
  {
   "cell_type": "code",
   "execution_count": 43,
   "metadata": {},
   "outputs": [],
   "source": [
    "tickers = ['DIA', 'IWM', 'QQQ', 'SPY', 'VTI']"
   ]
  },
  {
   "cell_type": "code",
   "execution_count": 44,
   "metadata": {},
   "outputs": [
    {
     "name": "stdout",
     "output_type": "stream",
     "text": [
      "[*********************100%***********************]  5 of 5 completed\n"
     ]
    }
   ],
   "source": [
    "data = yf.download(tickers, period='1y')['Adj Close']"
   ]
  },
  {
   "cell_type": "code",
   "execution_count": 65,
   "metadata": {},
   "outputs": [],
   "source": [
    "periods = {'1 week':5, '1 Month':30, '3 Months':90, '6 Months':180, '1 Year':250}\n",
    "# create a data frame with tickers as the index and periods.keys() as the columns\n",
    "returns_df = pd.DataFrame(index=tickers, columns=periods.keys())\n",
    "\n",
    "for period, days in periods.items():\n",
    "    returns = ((data.iloc[-1] - data.iloc[-days]) / data.iloc[-days]) * 100\n",
    "    returns_df[period] = returns"
   ]
  },
  {
   "cell_type": "code",
   "execution_count": 87,
   "metadata": {},
   "outputs": [],
   "source": [
    "table = returns_df.round(2).sort_values(by='1 week', ascending=False)\n",
    "\n",
    "# Create the area plot\n",
    "plt.figure(figsize=(8, 6))\n",
    "plt.barh(table.index, table['1 week'], color='green', label='1 Week')\n",
    "\n",
    "# Customize the plot\n",
    "plt.title('Returns of Asset Classes')\n",
    "plt.xlabel('Returns')\n",
    "plt.ylabel('Time Periods')\n",
    "\n",
    "# Create custom legend with colors\n",
    "plt.legend(loc='upper right')\n",
    "plt.savefig('barplot.jpg', bbox_inches='tight')\n",
    "plt.close()\n",
    "\n",
    "# Save the table as an image\n",
    "plt.figure(figsize=(8, 6))\n",
    "plt.axis('off')\n",
    "plt.table(cellText=table.values,\n",
    "          colLabels=table.columns,\n",
    "          rowLabels=table.index,\n",
    "          loc='center',\n",
    "          cellLoc='center',\n",
    "          colWidths=[0.2]*len(table.columns),\n",
    "          bbox=[0, 0, 1, 1])\n",
    "plt.savefig('stock_performance.png', bbox_inches='tight')\n",
    "plt.close()\n",
    "\n",
    "\n"
   ]
  }
 ],
 "metadata": {
  "kernelspec": {
   "display_name": "Python 3",
   "language": "python",
   "name": "python3"
  },
  "language_info": {
   "codemirror_mode": {
    "name": "ipython",
    "version": 3
   },
   "file_extension": ".py",
   "mimetype": "text/x-python",
   "name": "python",
   "nbconvert_exporter": "python",
   "pygments_lexer": "ipython3",
   "version": "3.9.5"
  },
  "orig_nbformat": 4
 },
 "nbformat": 4,
 "nbformat_minor": 2
}
